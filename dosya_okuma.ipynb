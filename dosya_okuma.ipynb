
{
  "cells": [
    {
      "cell_type": "code",
      "source": [
        "import csv\n",
        "file_path = 'books.csv'\n",
        "\n",
        "data = [\n",
        "    ['title','author','publisher'],\n",
        "    ['python programming' , 'john smith ', 'techbooks'],\n",
        "    ['data science handbook','emily brown','datapublishers'],\n",
        "    ['machine learning basics', ' michael johnson', 'Aİbooks']\n",
        "]\n",
        "\n",
        "with open(file_path,'w',newline='',encoding='utf-8') as file:\n",
        "  writer = csv.writer(file)\n",
        "  writer.writerows(data)"
      ],
      "metadata": {
        "id": "a2Dp2sHoKPhj"
      },
      "execution_count": null,
      "outputs": []
    },
    {
      "cell_type": "code",
      "source": [
        "import csv\n",
        "\n",
        "dosya = \"ornek.csv\"\n",
        "\n",
        "veri= [\n",
        "    ['ad','yas','sınıf'],\n",
        "    ['berat','16','program'],\n",
        "    ['elif','15','matematik'],\n",
        "    ['deniz','14','fizik']\n",
        "]\n",
        "\n",
        "with open(dosya,'w',newline='',encoding='utf-8') as file:\n",
        "  writer = csv.writer(file)\n",
        "  writer.writerows(veri)\n",
        "\n",
        "with open(dosya,'r',newline='',encoding='utf-8') as file:\n",
        "  reader = csv.reader(file)\n",
        "  for row in reader:\n",
        "    print(row)"
      ],
      "metadata": {
        "colab": {
          "base_uri": "https://localhost:8080/"
        },
        "id": "PlnBoFiUPWR0",
        "outputId": "cb4fd0e6-54f0-44ce-c460-58e1036db1a2"
      },
      "execution_count": null,
      "outputs": [
        {
          "output_type": "stream",
          "name": "stdout",
          "text": [
            "['ad', 'yas', 'sınıf']\n",
            "['berat', '16', 'program']\n",
            "['elif', '15', 'matematik']\n",
            "['deniz', '14', 'fizik']\n"
          ]
        }
      ]
    },
    {
      "cell_type": "code",
      "source": [
        "import csv\n",
        "\n",
        "with open('student_scores.csv','r',newline='',encoding='utf-8') as file:\n",
        "  reader = csv.reader(file)\n",
        "\n",
        "  for row in reader:\n",
        "    print(row)"
      ],
      "metadata": {
        "colab": {
          "base_uri": "https://localhost:8080/"
        },
        "id": "wnU-b2ldUbI7",
        "outputId": "36193cb9-99d0-44e3-ce5f-d262c0063a35"
      },
      "execution_count": null,
      "outputs": [
        {
          "output_type": "stream",
          "name": "stdout",
          "text": [
            "['Hours', 'Scores']\n",
            "['2.5', '21']\n",
            "['5.1', '47']\n",
            "['3.2', '27']\n",
            "['8.5', '75']\n",
            "['3.5', '30']\n",
            "['1.5', '20']\n",
            "['9.2', '88']\n",
            "['5.5', '60']\n",
            "['8.3', '81']\n",
            "['2.7', '25']\n",
            "['7.7', '85']\n",
            "['5.9', '62']\n",
            "['4.5', '41']\n",
            "['3.3', '42']\n",
            "['1.1', '17']\n",
            "['8.9', '95']\n",
            "['2.5', '30']\n",
            "['1.9', '24']\n",
            "['6.1', '67']\n",
            "['7.4', '69']\n",
            "['2.7', '30']\n",
            "['4.8', '54']\n",
            "['3.8', '35']\n",
            "['6.9', '76']\n",
            "['7.8', '86']\n"
          ]
        }
      ]
    },
    {
      "cell_type": "code",
      "source": [
        "import csv\n",
        "\n",
        "ogrenci1= 'students1.txt'\n",
        "\n",
        "veri1 = [\n",
        "    ['ali,20,a','ayşe,22,b'],\n",
        "    ['mehmet,21,a','fatma,23,c'],\n",
        "    ['hasan,20,b','hülya,22,c']]\n",
        "\n",
        "with open(ogrenci1,'w',newline='',encoding='utf-8') as file:\n",
        "  writer = csv.writer(file)\n",
        "  writer.writerows(veri1)\n",
        "\n",
        "  print(\"kaydedildi\")\n",
        "\n",
        "ogrenci2= 'students2.txt'\n",
        "\n",
        "veri2 = [\n",
        "    ['mustafa,45,a','halil,22,b'],\n",
        "    ['mehmet,21,a','fatma,23,c'],\n",
        "    ['hasan,20,b','hülya,22,c']]\n",
        "\n",
        "with open(ogrenci2,'w',newline='',encoding='utf-8') as file:\n",
        "  writer = csv.writer(file)\n",
        "  writer.writerows(veri2)\n",
        "\n",
        "  print(\"kaydedildi\")\n",
        "\n",
        "ortakogrenci = []\n",
        "for ogrenci1 in veri1:\n",
        "  for ogrenci2 in veri2:\n",
        "    if ogrenci1 == ogrenci2:\n",
        "      ortakogrenci.append(ogrenci1)\n",
        "\n",
        "\n",
        "print(\"Ortak Öğrenciler:\")\n",
        "for ogrenci in ortakogrenci:\n",
        "  print(ogrenci)\n",
        "\n",
        "\n"
      ],
      "metadata": {
        "colab": {
          "base_uri": "https://localhost:8080/"
        },
        "id": "hXv6JmKwUcvz",
        "outputId": "f156e707-756b-4bbd-8c9b-63373f728df9"
      },
      "execution_count": null,
      "outputs": [
        {
          "output_type": "stream",
          "name": "stdout",
          "text": [
            "kaydedildi\n",
            "kaydedildi\n",
            "Ortak Öğrenciler:\n",
            "['mehmet,21,a', 'fatma,23,c']\n",
            "['hasan,20,b', 'hülya,22,c']\n"
          ]
        }
      ]
    },
    {
      "cell_type": "code",
      "source": [
        "import csv\n",
        "\n",
        "dosya = 'book.csv'\n",
        "\n",
        "data = [\n",
        "    ['title','author','publisher'],\n",
        "    ['python programming' , 'john smith ', 'techbooks'],\n",
        "    ['data science handbook','emily brown','datapublishers'],\n",
        "    ['machine learning basics', ' michael johnson', 'Aİbooks']\n",
        "]\n",
        "\n",
        "with open(dosya,'w',newline='',encoding='utf-8') as file:\n",
        "  writer = csv.writer(file)\n",
        "  writer.writerows(data)\n",
        "\n",
        "print(\"kaydedildi\")\n",
        "\n",
        "class book:\n",
        "  def __init__(self,title,author,publisher):\n",
        "    self.title = title\n",
        "    self.author = author\n",
        "    self.publisher = publisher\n",
        "\n",
        "  def goster(self):\n",
        "    print(\"\")\n",
        "\n",
        "\n",
        "\n"
      ],
      "metadata": {
        "colab": {
          "base_uri": "https://localhost:8080/"
        },
        "id": "n6libFkHfLqE",
        "outputId": "bcea5c6e-28b6-49e6-938a-0db6e33807ff"
      },
      "execution_count": null,
      "outputs": [
        {
          "output_type": "stream",
          "name": "stdout",
          "text": [
            "kaydedildi\n"
          ]
        }
      ]
    },
    {
      "cell_type": "code",
      "source": [],
      "metadata": {
        "id": "o1cYBytdm0qU"
      },
      "execution_count": null,
      "outputs": []
    }
  ],
  "metadata": {
    "colab": {
      "provenance": []
    },
    "kernelspec": {
      "display_name": "Python 3",
      "name": "python3"
    }
  },
  "nbformat": 4,
  "nbformat_minor": 0
}
