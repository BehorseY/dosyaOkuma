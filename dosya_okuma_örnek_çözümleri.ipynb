{
  "cells": [
    {
      "cell_type": "code",
      "source": [
        "dosyam = \"ornek.txt\"\n",
        "\n",
        "with open(dosyam,\"w\",encoding=\"utf-8\") as file:\n",
        "  file.write(\" merhaba dosya okuma.\\npython oop tabanlı bir dildir\\n derslerbayaiyi\")\n"
      ],
      "metadata": {
        "id": "3gMyn1I3e8c9"
      },
      "execution_count": null,
      "outputs": []
    },
    {
      "cell_type": "code",
      "source": [
        "with open(\"ornek.txt\",\"r\") as file:\n",
        "  content = file.read()\n",
        "  print(content)"
      ],
      "metadata": {
        "colab": {
          "base_uri": "https://localhost:8080/"
        },
        "id": "Xhnpnmuxe6b8",
        "outputId": "ad4fbfd1-cfc3-4750-aeb9-2232133e4a3a"
      },
      "execution_count": null,
      "outputs": [
        {
          "output_type": "stream",
          "name": "stdout",
          "text": [
            " merhaba dosya okuma.\n",
            "python oop tabanlı bir dildir\n",
            " derslerbayaiyi\n"
          ]
        }
      ]
    },
    {
      "cell_type": "code",
      "source": [
        "with open(\"ornek.txt\",\"r\") as file:\n",
        "  content = file.readlines()\n",
        "  print(f\"dosyadaki satır sayısı : {len(content)}\")\n"
      ],
      "metadata": {
        "colab": {
          "base_uri": "https://localhost:8080/"
        },
        "id": "0oixFaMufuiU",
        "outputId": "bda30ab5-790d-4775-e5ef-fd41df12807f"
      },
      "execution_count": null,
      "outputs": [
        {
          "output_type": "stream",
          "name": "stdout",
          "text": [
            "dosyadaki satır sayısı : 3\n"
          ]
        }
      ]
    },
    {
      "cell_type": "code",
      "source": [
        "with open(\"ornek.txt\",\"r\") as file:\n",
        "  content = file.read()\n",
        "  print(f\"dosyadaki karakter sayısı : {len(content)}\")"
      ],
      "metadata": {
        "colab": {
          "base_uri": "https://localhost:8080/"
        },
        "id": "gDgiOzsnhOYF",
        "outputId": "ffc984af-f33d-4eb6-d6db-88b33fed0edb"
      },
      "execution_count": null,
      "outputs": [
        {
          "output_type": "stream",
          "name": "stdout",
          "text": [
            "dosyadaki karakter sayısı : 67\n"
          ]
        }
      ]
    },
    {
      "cell_type": "code",
      "source": [
        "arama = input(\"aramak istediğin kelime \")\n",
        "with open(\"ornek.txt\",\"r\") as file:\n",
        "  content = file.read()\n",
        "  kelimesayı = content.count(arama) + 0\n",
        "  print(f\" kelimenin dosyadaki  sayısı : {kelimesayı}\")\n"
      ],
      "metadata": {
        "colab": {
          "base_uri": "https://localhost:8080/"
        },
        "id": "ILvB8VCkhi2k",
        "outputId": "b0f1d7b7-15d8-47a0-b01c-8050f401fad9"
      },
      "execution_count": null,
      "outputs": [
        {
          "output_type": "stream",
          "name": "stdout",
          "text": [
            "aramak istediğin kelime b\n",
            " kelimenin dosyadaki  sayısı : 4\n"
          ]
        }
      ]
    },
    {
      "cell_type": "code",
      "source": [
        "with open(\"ornek.txt\",\"r\") as file:\n",
        "  content = file.read()\n",
        "  enuzunkelime = max(content.split(),key=len)\n",
        "  print(f\"enuzun kelime : {enuzunkelime}\")"
      ],
      "metadata": {
        "colab": {
          "base_uri": "https://localhost:8080/"
        },
        "id": "705qQvKblWIg",
        "outputId": "65c173b4-e9c8-4304-934b-b8c01330e4d6"
      },
      "execution_count": null,
      "outputs": [
        {
          "output_type": "stream",
          "name": "stdout",
          "text": [
            "enuzun kelime : derslerbayaiyi\n"
          ]
        }
      ]
    },
    {
      "cell_type": "code",
      "source": [
        "with open(\"ornek.txt\",\"r\") as file:\n",
        "  content = file.read()\n",
        "  tersten = content[::-1]\n",
        "  print(f\"tersten tüm satırlar : {tersten}\")"
      ],
      "metadata": {
        "colab": {
          "base_uri": "https://localhost:8080/"
        },
        "id": "IF-UGM3Om5NX",
        "outputId": "75fa0172-76f9-4482-c218-ed7f220e8174"
      },
      "execution_count": null,
      "outputs": [
        {
          "output_type": "stream",
          "name": "stdout",
          "text": [
            "tersten tüm satırlar : iyiayabrelsred \n",
            "ridlid rib ılnabat poo nohtyp\n",
            ".amuko aysod abahrem \n"
          ]
        }
      ]
    },
    {
      "cell_type": "code",
      "source": [
        "import shutil\n",
        "\n",
        "ilk= \"ornek.txt\"\n",
        "ikinci = \"ornek2BUYUK.txt\"\n",
        "\n",
        "shutil.copy(ilk,ikinci)\n",
        "\n",
        "with open(\"ornek2BUYUK.txt\",\"r\") as file:\n",
        "  content = file.read()\n",
        "  print (content)\n"
      ],
      "metadata": {
        "colab": {
          "base_uri": "https://localhost:8080/"
        },
        "id": "P_7te16un-fv",
        "outputId": "3128c2f9-b588-4c01-c0c3-67820f81158d"
      },
      "execution_count": null,
      "outputs": [
        {
          "output_type": "stream",
          "name": "stdout",
          "text": [
            " merhaba dosya okuma.\n",
            "python oop tabanlı bir dildir\n",
            " derslerbayaiyi\n"
          ]
        }
      ]
    },
    {
      "cell_type": "code",
      "source": [
        "with open(\"ornek2BUYUK.txt\",\"r\") as file:\n",
        "  content = file.read()\n",
        "  buyukharf = content.upper()\n",
        "  print(f\"büyük harfli hali : {buyukharf}\")"
      ],
      "metadata": {
        "colab": {
          "base_uri": "https://localhost:8080/"
        },
        "id": "WFubj7uSnj3v",
        "outputId": "7711c729-00b4-4f97-f3b7-4b955339cfba"
      },
      "execution_count": null,
      "outputs": [
        {
          "output_type": "stream",
          "name": "stdout",
          "text": [
            "büyük harfli hali :  MERHABA DOSYA OKUMA.\n",
            "PYTHON OOP TABANLI BIR DILDIR\n",
            " DERSLERBAYAIYI\n"
          ]
        }
      ]
    },
    {
      "cell_type": "code",
      "source": [
        "satir_numarasi = int(input(\"Okumak istediğiniz satır numarasını girin: \"))\n",
        "\n",
        "with open(\"ornek.txt\", \"r\") as dosya:\n",
        "  satirlar = dosya.readlines()\n",
        "\n",
        "if satir_numarasi <= len(satirlar) and satir_numarasi >0:\n",
        "  print(satirlar[satir_numarasi - 1])\n",
        "else:\n",
        "  print(\"Geçersiz satır numarası.\")"
      ],
      "metadata": {
        "colab": {
          "base_uri": "https://localhost:8080/"
        },
        "id": "lAj7zj990rlX",
        "outputId": "aef67594-9497-44b1-d5db-9e2819cfb93a"
      },
      "execution_count": null,
      "outputs": [
        {
          "output_type": "stream",
          "name": "stdout",
          "text": [
            "Okumak istediğiniz satır numarasını girin: 4\n",
            "Geçersiz satır numarası.\n"
          ]
        }
      ]
    },
    {
      "cell_type": "code",
      "source": [
        "from collections import Counter\n",
        "with open(\"ornek.txt\", \"r\") as dosya:\n",
        "  satirlar = dosya.read().split()\n",
        "  sayac = Counter(satirlar)\n",
        "  print(f\"kullanılan kelime: {sayac}\")"
      ],
      "metadata": {
        "colab": {
          "base_uri": "https://localhost:8080/"
        },
        "id": "T4WBbyV311yp",
        "outputId": "862aeb81-24c8-4a5c-92ca-e45077d11e8b"
      },
      "execution_count": null,
      "outputs": [
        {
          "output_type": "stream",
          "name": "stdout",
          "text": [
            "kullanılan kelime: Counter({'merhaba': 1, 'dosya': 1, 'okuma.': 1, 'python': 1, 'oop': 1, 'tabanlı': 1, 'bir': 1, 'dildir': 1, 'derslerbayaiyi': 1})\n"
          ]
        }
      ]
    },
    {
      "cell_type": "code",
      "source": [
        "import csv\n",
        "\n",
        "dosya = \"ornek.csv\"\n",
        "\n",
        "veri= [\n",
        "    ['ad','yas','sınıf'],\n",
        "    ['berat','16','program'],\n",
        "    ['elif','15','matematik'],\n",
        "    ['deniz','14','fizik']\n",
        "]\n",
        "\n",
        "with open(dosya,'w',newline='',encoding='utf-8') as file:\n",
        "  writer = csv.writer(file)\n",
        "  writer.writerows(veri)\n",
        "\n",
        "with open(dosya,'r',newline='',encoding='utf-8') as file:\n",
        "  reader = csv.reader(file)\n",
        "  for row in reader:\n",
        "    print(row)"
      ],
      "metadata": {
        "colab": {
          "base_uri": "https://localhost:8080/"
        },
        "id": "qq_gDght41-w",
        "outputId": "684c149a-90ac-4111-b968-6b826447ed0f"
      },
      "execution_count": null,
      "outputs": [
        {
          "output_type": "stream",
          "name": "stdout",
          "text": [
            "['ad', 'yas', 'sınıf']\n",
            "['berat', '16', 'program']\n",
            "['elif', '15', 'matematik']\n",
            "['deniz', '14', 'fizik']\n"
          ]
        }
      ]
    },
    {
      "cell_type": "code",
      "source": [
        "with open(\"ornek.txt\", \"r\") as dosya:\n",
        "  toplamsatır=0\n",
        "  toplamkelime=0\n",
        "  en_uzun_satır = \"\"\n",
        "  for line in dosya:\n",
        "    toplamsatır+=1\n",
        "\n",
        "    toplamkelime+=len(line.split())\n",
        "    if len(line)>len(en_uzun_satır):\n",
        "      enuzunsatır=line.strip()\n",
        "\n",
        "print(f\"Toplam Satır Sayısı: {toplamsatır}\")\n",
        "print(f\"Toplam Kelime Sayısı: {toplamkelime}\")\n",
        "print(f\"En Uzun Satır: {enuzunsatır}\")\n"
      ],
      "metadata": {
        "colab": {
          "base_uri": "https://localhost:8080/"
        },
        "id": "VIj6bMMq66-4",
        "outputId": "fcccd1be-7276-451c-b928-ad49ffd7b3b9"
      },
      "execution_count": null,
      "outputs": [
        {
          "output_type": "stream",
          "name": "stdout",
          "text": [
            "Toplam Satır Sayısı: 3\n",
            "Toplam Kelime Sayısı: 9\n",
            "En Uzun Satır: derslerbayaiyi\n"
          ]
        }
      ]
    },
    {
      "cell_type": "code",
      "source": [
        "import numpy as np\n",
        "\n",
        "data = [[1,2,3],[3,4,5],[6,7,8]]\n",
        "\n",
        "arayone = np.array(data)\n",
        "\n",
        "print(arayone)"
      ],
      "metadata": {
        "id": "YNHrsOBo9xQY",
        "colab": {
          "base_uri": "https://localhost:8080/"
        },
        "outputId": "abfbe271-ccfe-43fa-a440-239fce22399c"
      },
      "execution_count": null,
      "outputs": [
        {
          "output_type": "stream",
          "name": "stdout",
          "text": [
            "[[1 2 3]\n",
            " [3 4 5]\n",
            " [6 7 8]]\n"
          ]
        }
      ]
    },
    {
      "cell_type": "code",
      "source": [
        "import numpy as np\n",
        "\n",
        "np.zeros(100)\n",
        "\n",
        "np.ones(100)\n",
        "\n",
        "np.eye(10)"
      ],
      "metadata": {
        "colab": {
          "base_uri": "https://localhost:8080/"
        },
        "id": "cRW4gyKTOqfP",
        "outputId": "4f2ae773-8031-4df4-e86f-fcc99eee487b"
      },
      "execution_count": null,
      "outputs": [
        {
          "output_type": "execute_result",
          "data": {
            "text/plain": [
              "array([[1., 0., 0., 0., 0., 0., 0., 0., 0., 0.],\n",
              "       [0., 1., 0., 0., 0., 0., 0., 0., 0., 0.],\n",
              "       [0., 0., 1., 0., 0., 0., 0., 0., 0., 0.],\n",
              "       [0., 0., 0., 1., 0., 0., 0., 0., 0., 0.],\n",
              "       [0., 0., 0., 0., 1., 0., 0., 0., 0., 0.],\n",
              "       [0., 0., 0., 0., 0., 1., 0., 0., 0., 0.],\n",
              "       [0., 0., 0., 0., 0., 0., 1., 0., 0., 0.],\n",
              "       [0., 0., 0., 0., 0., 0., 0., 1., 0., 0.],\n",
              "       [0., 0., 0., 0., 0., 0., 0., 0., 1., 0.],\n",
              "       [0., 0., 0., 0., 0., 0., 0., 0., 0., 1.]])"
            ]
          },
          "metadata": {},
          "execution_count": 3
        }
      ]
    },
    {
      "cell_type": "code",
      "source": [
        "import numpy as np\n",
        "\n",
        "rastgele = np.arange(50,101)\n",
        "\n",
        "print(rastgele)"
      ],
      "metadata": {
        "colab": {
          "base_uri": "https://localhost:8080/"
        },
        "id": "WYz2Gt1XPdP2",
        "outputId": "e84735b9-4a54-465c-a473-aadf3a97e8e5"
      },
      "execution_count": null,
      "outputs": [
        {
          "output_type": "stream",
          "name": "stdout",
          "text": [
            "[ 50  51  52  53  54  55  56  57  58  59  60  61  62  63  64  65  66  67\n",
            "  68  69  70  71  72  73  74  75  76  77  78  79  80  81  82  83  84  85\n",
            "  86  87  88  89  90  91  92  93  94  95  96  97  98  99 100]\n"
          ]
        }
      ]
    },
    {
      "cell_type": "code",
      "source": [
        "sifirlar = np.zeros((100,100), dtype = \"int\")\n",
        "sifirlar"
      ],
      "metadata": {
        "colab": {
          "base_uri": "https://localhost:8080/"
        },
        "id": "nopjiUKaQLZ1",
        "outputId": "deb224db-88d0-4fb2-cc8d-d5c4e49ebb65"
      },
      "execution_count": null,
      "outputs": [
        {
          "output_type": "execute_result",
          "data": {
            "text/plain": [
              "array([[0, 0, 0, ..., 0, 0, 0],\n",
              "       [0, 0, 0, ..., 0, 0, 0],\n",
              "       [0, 0, 0, ..., 0, 0, 0],\n",
              "       ...,\n",
              "       [0, 0, 0, ..., 0, 0, 0],\n",
              "       [0, 0, 0, ..., 0, 0, 0],\n",
              "       [0, 0, 0, ..., 0, 0, 0]])"
            ]
          },
          "metadata": {},
          "execution_count": 17
        }
      ]
    },
    {
      "cell_type": "code",
      "source": [
        "np.ones(100,int)\n"
      ],
      "metadata": {
        "colab": {
          "base_uri": "https://localhost:8080/"
        },
        "id": "gcb3wzJYQRyF",
        "outputId": "ca549edc-9e5c-48c6-eada-6cae991b6687"
      },
      "execution_count": null,
      "outputs": [
        {
          "output_type": "execute_result",
          "data": {
            "text/plain": [
              "array([1, 1, 1, 1, 1, 1, 1, 1, 1, 1, 1, 1, 1, 1, 1, 1, 1, 1, 1, 1, 1, 1,\n",
              "       1, 1, 1, 1, 1, 1, 1, 1, 1, 1, 1, 1, 1, 1, 1, 1, 1, 1, 1, 1, 1, 1,\n",
              "       1, 1, 1, 1, 1, 1, 1, 1, 1, 1, 1, 1, 1, 1, 1, 1, 1, 1, 1, 1, 1, 1,\n",
              "       1, 1, 1, 1, 1, 1, 1, 1, 1, 1, 1, 1, 1, 1, 1, 1, 1, 1, 1, 1, 1, 1,\n",
              "       1, 1, 1, 1, 1, 1, 1, 1, 1, 1, 1, 1])"
            ]
          },
          "metadata": {},
          "execution_count": 21
        }
      ]
    },
    {
      "cell_type": "code",
      "source": [
        "np.eye(10)"
      ],
      "metadata": {
        "colab": {
          "base_uri": "https://localhost:8080/"
        },
        "id": "x8xlgTsWQUEt",
        "outputId": "ad3abc9d-8489-4cbd-8611-53d65d8e0b5b"
      },
      "execution_count": null,
      "outputs": [
        {
          "output_type": "execute_result",
          "data": {
            "text/plain": [
              "array([[1., 0., 0., 0., 0., 0., 0., 0., 0., 0.],\n",
              "       [0., 1., 0., 0., 0., 0., 0., 0., 0., 0.],\n",
              "       [0., 0., 1., 0., 0., 0., 0., 0., 0., 0.],\n",
              "       [0., 0., 0., 1., 0., 0., 0., 0., 0., 0.],\n",
              "       [0., 0., 0., 0., 1., 0., 0., 0., 0., 0.],\n",
              "       [0., 0., 0., 0., 0., 1., 0., 0., 0., 0.],\n",
              "       [0., 0., 0., 0., 0., 0., 1., 0., 0., 0.],\n",
              "       [0., 0., 0., 0., 0., 0., 0., 1., 0., 0.],\n",
              "       [0., 0., 0., 0., 0., 0., 0., 0., 1., 0.],\n",
              "       [0., 0., 0., 0., 0., 0., 0., 0., 0., 1.]])"
            ]
          },
          "metadata": {},
          "execution_count": 24
        }
      ]
    },
    {
      "cell_type": "code",
      "source": [
        "np.linspace(0,100,5)"
      ],
      "metadata": {
        "colab": {
          "base_uri": "https://localhost:8080/"
        },
        "id": "6-yO-6HyQVh1",
        "outputId": "a8eae8d7-daff-4cdf-f70a-a30447837ef1"
      },
      "execution_count": null,
      "outputs": [
        {
          "output_type": "execute_result",
          "data": {
            "text/plain": [
              "array([  0.,  25.,  50.,  75., 100.])"
            ]
          },
          "metadata": {},
          "execution_count": 29
        }
      ]
    },
    {
      "cell_type": "code",
      "source": [
        "rast = np.random.randint(0,100,5)\n",
        "rast"
      ],
      "metadata": {
        "colab": {
          "base_uri": "https://localhost:8080/"
        },
        "id": "4H67nw4kRvh9",
        "outputId": "670dba64-0175-402c-a2bf-a97c65452882"
      },
      "execution_count": null,
      "outputs": [
        {
          "output_type": "execute_result",
          "data": {
            "text/plain": [
              "array([37, 18, 66, 82, 87])"
            ]
          },
          "metadata": {},
          "execution_count": 30
        }
      ]
    },
    {
      "cell_type": "code",
      "source": [
        "rast = np.random.rand(1)\n",
        "\n",
        "print ( rast)"
      ],
      "metadata": {
        "colab": {
          "base_uri": "https://localhost:8080/"
        },
        "id": "bfRcGbfXShPe",
        "outputId": "7f4f1cad-d044-439e-d957-d1d604fbb689"
      },
      "execution_count": null,
      "outputs": [
        {
          "output_type": "stream",
          "name": "stdout",
          "text": [
            "[0.13579773]\n"
          ]
        }
      ]
    },
    {
      "cell_type": "code",
      "source": [
        "rast = np.random.randn(1)\n",
        "rast"
      ],
      "metadata": {
        "colab": {
          "base_uri": "https://localhost:8080/"
        },
        "id": "uo9n0Vv3SwP9",
        "outputId": "e2f07c89-f99d-4f9b-b741-833265101dba"
      },
      "execution_count": null,
      "outputs": [
        {
          "output_type": "execute_result",
          "data": {
            "text/plain": [
              "array([-1.64136996])"
            ]
          },
          "metadata": {},
          "execution_count": 36
        }
      ]
    },
    {
      "cell_type": "code",
      "source": [
        "np.arange(0,256)"
      ],
      "metadata": {
        "colab": {
          "base_uri": "https://localhost:8080/"
        },
        "id": "CBQkD_RDUp1l",
        "outputId": "32ac89c8-fd8c-4be4-b0b2-c0404971f4a2"
      },
      "execution_count": null,
      "outputs": [
        {
          "output_type": "execute_result",
          "data": {
            "text/plain": [
              "array([  0,   1,   2,   3,   4,   5,   6,   7,   8,   9,  10,  11,  12,\n",
              "        13,  14,  15,  16,  17,  18,  19,  20,  21,  22,  23,  24,  25,\n",
              "        26,  27,  28,  29,  30,  31,  32,  33,  34,  35,  36,  37,  38,\n",
              "        39,  40,  41,  42,  43,  44,  45,  46,  47,  48,  49,  50,  51,\n",
              "        52,  53,  54,  55,  56,  57,  58,  59,  60,  61,  62,  63,  64,\n",
              "        65,  66,  67,  68,  69,  70,  71,  72,  73,  74,  75,  76,  77,\n",
              "        78,  79,  80,  81,  82,  83,  84,  85,  86,  87,  88,  89,  90,\n",
              "        91,  92,  93,  94,  95,  96,  97,  98,  99, 100, 101, 102, 103,\n",
              "       104, 105, 106, 107, 108, 109, 110, 111, 112, 113, 114, 115, 116,\n",
              "       117, 118, 119, 120, 121, 122, 123, 124, 125, 126, 127, 128, 129,\n",
              "       130, 131, 132, 133, 134, 135, 136, 137, 138, 139, 140, 141, 142,\n",
              "       143, 144, 145, 146, 147, 148, 149, 150, 151, 152, 153, 154, 155,\n",
              "       156, 157, 158, 159, 160, 161, 162, 163, 164, 165, 166, 167, 168,\n",
              "       169, 170, 171, 172, 173, 174, 175, 176, 177, 178, 179, 180, 181,\n",
              "       182, 183, 184, 185, 186, 187, 188, 189, 190, 191, 192, 193, 194,\n",
              "       195, 196, 197, 198, 199, 200, 201, 202, 203, 204, 205, 206, 207,\n",
              "       208, 209, 210, 211, 212, 213, 214, 215, 216, 217, 218, 219, 220,\n",
              "       221, 222, 223, 224, 225, 226, 227, 228, 229, 230, 231, 232, 233,\n",
              "       234, 235, 236, 237, 238, 239, 240, 241, 242, 243, 244, 245, 246,\n",
              "       247, 248, 249, 250, 251, 252, 253, 254, 255])"
            ]
          },
          "metadata": {},
          "execution_count": 43
        }
      ]
    },
    {
      "cell_type": "code",
      "source": [
        "data1.reshape(15,15)"
      ],
      "metadata": {
        "colab": {
          "base_uri": "https://localhost:8080/",
          "height": 141
        },
        "id": "ZSPU5FcUU559",
        "outputId": "d20d74fd-28ee-4bc3-ce5b-2a284b7fd4a1"
      },
      "execution_count": null,
      "outputs": [
        {
          "output_type": "error",
          "ename": "AttributeError",
          "evalue": "'list' object has no attribute 'reshape'",
          "traceback": [
            "\u001b[0;31m---------------------------------------------------------------------------\u001b[0m",
            "\u001b[0;31mAttributeError\u001b[0m                            Traceback (most recent call last)",
            "\u001b[0;32m<ipython-input-45-a2919914a2a0>\u001b[0m in \u001b[0;36m<cell line: 1>\u001b[0;34m()\u001b[0m\n\u001b[0;32m----> 1\u001b[0;31m \u001b[0mdata\u001b[0m\u001b[0;34m.\u001b[0m\u001b[0mreshape\u001b[0m\u001b[0;34m(\u001b[0m\u001b[0;36m15\u001b[0m\u001b[0;34m,\u001b[0m\u001b[0;36m15\u001b[0m\u001b[0;34m)\u001b[0m\u001b[0;34m\u001b[0m\u001b[0;34m\u001b[0m\u001b[0m\n\u001b[0m",
            "\u001b[0;31mAttributeError\u001b[0m: 'list' object has no attribute 'reshape'"
          ]
        }
      ]
    },
    {
      "cell_type": "code",
      "source": [],
      "metadata": {
        "id": "t7nm7T4BVNIF"
      },
      "execution_count": null,
      "outputs": []
    }
  ],
  "metadata": {
    "colab": {
      "provenance": []
    },
    "kernelspec": {
      "display_name": "Python 3",
      "name": "python3"
    }
  },
  "nbformat": 4,
  "nbformat_minor": 0
}